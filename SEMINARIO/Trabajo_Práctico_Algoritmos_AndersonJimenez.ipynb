{
 "cells": [
  {
   "cell_type": "markdown",
   "metadata": {
    "id": "hVbXYX-RfPWh"
   },
   "source": [
    "# Algoritmos de optimización - Trabajo Práctico<br>\n",
    "Nombre y Apellidos: Anderson Jiménez Torres <br>\n",
    "Url: https://github.com/97anderson/AlgoritmosDeOptimizacion.git<br>\n",
    "Google Colab: https://drive.google.com/file/d/1QktyyzJeQ4sk8noL5wNOFibgXHuQ0tXR/view?usp=drive_link  <br>\n",
    "Problema:\n",
    ">1. Sesiones de doblaje <br>\n",
    "\n",
    "Descripción del problema:\n",
    "\n",
    "Se precisa coordinar el doblaje de una película. Los actores del doblaje deben coincidir en las \n",
    "tomas en las que sus personajes aparecen juntos en las diferentes tomas. Los actores de \n",
    "doblaje cobran todos la misma cantidad por cada día que deben desplazarse hasta el estudio de \n",
    "grabación independientemente del número de tomas que se graben. No es posible grabar más \n",
    "de 6 tomas por día. El objetivo es planificar las sesiones por día de manera que el gasto por los \n",
    "servicios de los actores de doblaje sea el menor posible. Los datos son:\n",
    "Número de actores: 10\n",
    "Número de tomas : 30\n",
    "Actores/Tomas : https://bit.ly/36D8IuK\n",
    "- 1 indica que el actor participa en la toma\n",
    "- 0 en caso contrario\n",
    "\n",
    "\n",
    "\n",
    "\n",
    "\n",
    "\n",
    "\n",
    "\n",
    "                                        "
   ]
  },
  {
   "cell_type": "markdown",
   "metadata": {
    "id": "Sbo9IqQtpaHZ"
   },
   "source": [
    "# Modelo\n",
    "- ¿Como represento el espacio de soluciones?\n",
    "- ¿Cual es la función objetivo?\n",
    "- ¿Como implemento las restricciones?"
   ]
  },
  {
   "cell_type": "markdown",
   "metadata": {
    "id": "AiskKkzZfy4e"
   },
   "source": [
    "#### ¿Como represento el espacio de soluciones?\n",
    "El espacio de soluciones se representa mediante la asignación de actores a escenas y de escenas o tomas a dias. Esto se realiza mediante la matriz \n",
    "escenas_x_actor, donde cada fila representa una toma y cada columna representa un actor. Un valor de 1 en una posición indica que el actor \n",
    "participa en esa toma, mientras que un valor de 0 indica lo contrario.\n"
   ]
  },
  {
   "cell_type": "markdown",
   "metadata": {},
   "source": [
    "#### ¿Cual es la función objetivo?\n",
    "Maximizar la cantidad de tomas que se pueden realiza con tal de reducir costos, creando un horario o planeación que no haga que un actor vaya mas de\n",
    "lo necesario y de esa manera pagando lo menos posible. Este problema busca minimizar el gasto total por los servicios de los actores de doblaje. Esto implica encontrar la asignación óptima de las tomas a los días de grabación de manera que se cumplan todas las restricciones (como el límite de 6 tomas por día) y se minimice el costo total.\n",
    "\n",
    "Matematicamente podemos denotar:\n",
    "- Ci como el costo asociado al día de grabación i.\n",
    "- ni como el número de tomas programadas para el día i.\n",
    "- T, número total de dias de grabación\n",
    "- G, como el gasto total por el servicio de los actores de doblaje\n",
    "\n",
    "Es decir, la función objetivo es la suma de los costos asociados a cada día de grabación.\n",
    "\n",
    "El desafío del algoritmo es encontrar la asignación de tomas a los días de grabación que minimice esta función objetivo, teniendo en cuenta las restricciones, como el límite de 6 tomas por día y la disponibilidad de los actores para cada t.te.\n"
   ]
  },
  {
   "cell_type": "markdown",
   "metadata": {},
   "source": [
    "Para la solución del problema anterior se realizan dos desarrollos con dos tipos de algoritmos diferentes, pero que al final dan la misma configuración de días, el primero realizado es un **algoritmo de optimización de tipo Greedy (voraz)** y el segundo es un **algoritmo de búsqueda local.** La búsqueda local es una metaheurística que parte de una solución inicial y busca mejorarla iterativamente explorando el espacio de soluciones vecinas."
   ]
  },
  {
   "cell_type": "markdown",
   "metadata": {},
   "source": [
    "## ALGORITMO DE OPTIMIZACIÓN DE TIPO GREEDY (VORAZ):\n",
    "\n",
    "En el algoritmo desarrollado se realiza una busqueda por actores que menos participan en el doble y se crea una matriz de menos a mas, se acomoda los \n",
    "actores que menos participan a los que mas participan. Esto con el fin de no hacer venir mas días de los necesarios al mismo actor, con tal de reducir costos en el doblaje.<br>mente."
   ]
  },
  {
   "cell_type": "markdown",
   "metadata": {},
   "source": [
    "Algunas caracteristicas son: \n",
    "\n",
    "- Objetivo de minimización de costos: El objetivo del algoritmo es planificar las sesiones por día de manera que el gasto por los servicios de los actores de doblaje sea el menor posible. Esto indica que el algoritmo está buscando una solución que minimice los costos.\n",
    "- Restricciones específicas: Se establece una restricción clara de que no es posible grabar más de 6 tomas por día.\n",
    "- Heurística de selección de actores y tomas: El algoritmo selecciona los actores y las tomas de manera que se satisfagan las restricciones y se busque minimizar los costos. No parece haber una búsqueda exhaustiva de todas las combinaciones posibles, sino que se toman decisiones \"voraces\" en cada paso basadas en la información disponible hasta el momento.\n",
    "\n",
    "A continuación se comienza a desarrollar el código de lo que se explico anteriormente."
   ]
  },
  {
   "cell_type": "code",
   "execution_count": 1,
   "metadata": {},
   "outputs": [],
   "source": [
    "import pandas as pd\n",
    "import numpy as np\n",
    "import random\n",
    "import math"
   ]
  },
  {
   "cell_type": "code",
   "execution_count": 3,
   "metadata": {},
   "outputs": [
    {
     "name": "stdout",
     "output_type": "stream",
     "text": [
      "   Unnamed: 0  Actor  Unnamed: 2  Unnamed: 3  Unnamed: 4  Unnamed: 5  \\\n",
      "0        Toma    1.0         2.0         3.0         4.0         5.0   \n",
      "1           1    1.0         1.0         1.0         1.0         1.0   \n",
      "2           2    0.0         0.0         1.0         1.0         1.0   \n",
      "3           3    0.0         1.0         0.0         0.0         1.0   \n",
      "4           4    1.0         1.0         0.0         0.0         0.0   \n",
      "5           5    0.0         1.0         0.0         1.0         0.0   \n",
      "6           6    1.0         1.0         0.0         1.0         1.0   \n",
      "7           7    1.0         1.0         0.0         1.0         1.0   \n",
      "8           8    1.0         1.0         0.0         0.0         0.0   \n",
      "9           9    1.0         1.0         0.0         1.0         0.0   \n",
      "10         10    1.0         1.0         0.0         0.0         0.0   \n",
      "11         11    1.0         1.0         1.0         0.0         1.0   \n",
      "12         12    1.0         1.0         1.0         1.0         0.0   \n",
      "13         13    1.0         0.0         0.0         1.0         1.0   \n",
      "14         14    1.0         0.0         1.0         0.0         0.0   \n",
      "15         15    1.0         1.0         0.0         0.0         0.0   \n",
      "16         16    0.0         0.0         0.0         1.0         0.0   \n",
      "17         17    1.0         0.0         1.0         0.0         0.0   \n",
      "18         18    0.0         0.0         1.0         0.0         0.0   \n",
      "19         19    1.0         0.0         1.0         0.0         0.0   \n",
      "20         20    1.0         0.0         1.0         1.0         1.0   \n",
      "21         21    0.0         0.0         0.0         0.0         0.0   \n",
      "22         22    1.0         1.0         1.0         1.0         0.0   \n",
      "23         23    1.0         0.0         1.0         0.0         0.0   \n",
      "24         24    0.0         0.0         1.0         0.0         0.0   \n",
      "25         25    1.0         1.0         0.0         1.0         0.0   \n",
      "26         26    1.0         0.0         1.0         0.0         1.0   \n",
      "27         27    0.0         0.0         0.0         1.0         1.0   \n",
      "28         28    1.0         0.0         0.0         1.0         0.0   \n",
      "29         29    1.0         0.0         0.0         0.0         1.0   \n",
      "30         30    1.0         0.0         0.0         1.0         0.0   \n",
      "31        NaN    NaN         NaN         NaN         NaN         NaN   \n",
      "32      TOTAL   22.0        14.0        13.0        15.0        11.0   \n",
      "\n",
      "    Unnamed: 6  Unnamed: 7  Unnamed: 8  Unnamed: 9  Unnamed: 10  Unnamed: 11  \\\n",
      "0          6.0         7.0         8.0         9.0         10.0          NaN   \n",
      "1          0.0         0.0         0.0         0.0          0.0          NaN   \n",
      "2          0.0         0.0         0.0         0.0          0.0          NaN   \n",
      "3          0.0         1.0         0.0         0.0          0.0          NaN   \n",
      "4          0.0         1.0         1.0         0.0          0.0          NaN   \n",
      "5          0.0         0.0         1.0         0.0          0.0          NaN   \n",
      "6          0.0         0.0         0.0         0.0          0.0          NaN   \n",
      "7          0.0         0.0         0.0         0.0          0.0          NaN   \n",
      "8          1.0         0.0         0.0         0.0          0.0          NaN   \n",
      "9          0.0         0.0         0.0         0.0          0.0          NaN   \n",
      "10         1.0         0.0         0.0         1.0          0.0          NaN   \n",
      "11         0.0         0.0         1.0         0.0          0.0          NaN   \n",
      "12         1.0         0.0         0.0         0.0          0.0          NaN   \n",
      "13         0.0         0.0         0.0         0.0          0.0          NaN   \n",
      "14         1.0         0.0         0.0         0.0          0.0          NaN   \n",
      "15         0.0         1.0         0.0         0.0          0.0          NaN   \n",
      "16         0.0         0.0         0.0         0.0          1.0          NaN   \n",
      "17         0.0         0.0         0.0         0.0          0.0          NaN   \n",
      "18         1.0         0.0         0.0         0.0          0.0          NaN   \n",
      "19         0.0         0.0         0.0         0.0          0.0          NaN   \n",
      "20         0.0         0.0         0.0         0.0          0.0          NaN   \n",
      "21         1.0         0.0         1.0         0.0          0.0          NaN   \n",
      "22         0.0         0.0         0.0         0.0          0.0          NaN   \n",
      "23         0.0         0.0         0.0         0.0          0.0          NaN   \n",
      "24         1.0         0.0         0.0         0.0          0.0          NaN   \n",
      "25         0.0         0.0         0.0         0.0          1.0          NaN   \n",
      "26         0.0         0.0         0.0         1.0          0.0          NaN   \n",
      "27         0.0         0.0         0.0         0.0          0.0          NaN   \n",
      "28         0.0         0.0         0.0         0.0          0.0          NaN   \n",
      "29         1.0         0.0         0.0         0.0          0.0          NaN   \n",
      "30         0.0         0.0         0.0         0.0          0.0          NaN   \n",
      "31         NaN         NaN         NaN         NaN          NaN          NaN   \n",
      "32         8.0         3.0         4.0         2.0          2.0          NaN   \n",
      "\n",
      "   Unnamed: 12  \n",
      "0        Total  \n",
      "1            5  \n",
      "2            3  \n",
      "3            3  \n",
      "4            4  \n",
      "5            3  \n",
      "6            4  \n",
      "7            4  \n",
      "8            3  \n",
      "9            3  \n",
      "10           4  \n",
      "11           5  \n",
      "12           5  \n",
      "13           3  \n",
      "14           3  \n",
      "15           3  \n",
      "16           2  \n",
      "17           2  \n",
      "18           2  \n",
      "19           2  \n",
      "20           4  \n",
      "21           2  \n",
      "22           4  \n",
      "23           2  \n",
      "24           2  \n",
      "25           4  \n",
      "26           4  \n",
      "27           2  \n",
      "28           2  \n",
      "29           3  \n",
      "30           2  \n",
      "31         NaN  \n",
      "32         NaN  \n"
     ]
    }
   ],
   "source": [
    "# Se crea dataset a partir de archivo csv suministrado\n",
    "datos_doblaje = pd.read_csv('Datos_problema_doblaje.csv', delimiter=',')\n",
    "print(datos_doblaje)"
   ]
  },
  {
   "cell_type": "markdown",
   "metadata": {},
   "source": [
    "#### ¿Como implemento las restricciones?\n",
    "Las restricciones como el enunciado inicial es que no se realicen mas de 6 tomas por día y reducir las ida de cada actor al minimo posible con tal de que el actor vaya solo lo necesario, si en el mismo dia que va se pueden hacer todas las tomas en las que va a participar mucho mejor.<br>\n",
    "\n",
    "Por ende se realiza un recorrido de los actores del que menos participa al que mas y se van revisando las escenas en las que participa, se descuenta la escena del maximo de tomas que hace el actor indicado por la ultima fila del archivo csv, teniendo en cuenta o llevando un contador de las 6 tomas permitidas en el día, el código es el siguiente: "
   ]
  },
  {
   "cell_type": "code",
   "execution_count": 4,
   "metadata": {},
   "outputs": [],
   "source": [
    "# DECLARACION DE VARIABLES GLOBALES\n",
    "cantidad_escenas = datos_doblaje.iloc[1:-2, 0].copy().values.astype(int)  # numero total de escenas, sacadas del archivo csv\n",
    "num_actores = len(datos_doblaje.columns) - 3  # Cantidad total de actores de la pelicula, sacando columnas que no sirven\n",
    "contadores_por_actor = [0] * num_actores  # Se inicializa array con tamaño total de actores para sumar las escenas diarias, no > 6\n",
    "escenas_x_actor = datos_doblaje.iloc[1:-2, 1:-2].copy().values.astype(int)  # Matriz con escenas en que participa cada actor\n",
    "dias_grabacion = 1  # Se inicializa dia de grabacion en 1\n",
    "sesiones_por_dia = {}  # diccionario que tendra las escenas por dias de grabación\n",
    "total_actores_escena = datos_doblaje.iloc[1:-2, -1].copy().values.astype(int)  # Total de actores por escenas \n",
    "\n",
    "total_escenas_actores = datos_doblaje.iloc[[0, -1], 1:num_actores + 1] # Se consigue cantidad de escenas de cada actor\n",
    "actores_con_escenas = total_escenas_actores.values.astype(int)\n",
    "array_total_tomas_actor = actores_con_escenas[1]\n",
    "indice_orden = np.argsort(actores_con_escenas[1])  # Orden de menor a mayor de fila final\n",
    "actores_con_escenas = actores_con_escenas[:, indice_orden]  # Aplicamos el mismo orden a la primera fila\n",
    "\n",
    "contador_escenas = len(cantidad_escenas)\n",
    "tomas_totales = []\n",
    "horario_doblaje = {}\n",
    "tomas_programadas = {}  # Cambiamos la lista a un diccionario para poder agregar elementos con claves\n",
    "contador_tomas = 0\n",
    "\n",
    "# Se valida actor con escenas minimas a empezar a validar tomando variable actores_con_escenas fila 2\n",
    "for posicion in range(num_actores):\n",
    "    actor = actores_con_escenas[0, posicion]  # Se valida actor que menos participa a max\n",
    "    numero_escenas = 0\n",
    "    contadores_por_actor = [0] * num_actores\n",
    "    actores_participan_tomas = 0  # variable que identifica los actores que participan en una toma que se va a realizar.\n",
    "    \n",
    "    while numero_escenas < len(cantidad_escenas):\n",
    "        escenas_asignadas_dia = []  # Lista para almacenar las escenas asignadas en el día actual\n",
    "        \n",
    "        for escena in range(len(cantidad_escenas)):\n",
    "            numero_escenas += 1\n",
    "            if (escenas_x_actor[escena, actor - 1] == 1 and \n",
    "                contador_escenas > 0 and \n",
    "                escena + 1 not in tomas_totales):\n",
    "                \n",
    "                participantes = [i for i in range(num_actores) if escenas_x_actor[escena, i] == 1]\n",
    "                \n",
    "                for i in participantes:\n",
    "                    contadores_por_actor[i] += 1\n",
    "                    if contadores_por_actor[i] < 6:\n",
    "                        actores_participan_tomas += 1\n",
    "                    \n",
    "                if (contador_tomas < 6 and \n",
    "                    actores_participan_tomas >= total_actores_escena[escena]):\n",
    "                    \n",
    "                    sesiones_por_dia.setdefault(dias_grabacion, []).append(escena)\n",
    "                    contador_escenas -= 1\n",
    "                    tomas_programadas.setdefault(dias_grabacion, []).append(escena)\n",
    "                    escenas_asignadas_dia.append(escena)  # Añadir la escena a las asignadas en el día actual\n",
    "                    contador_tomas += 1\n",
    "                    tomas_totales.append(escena + 1)\n",
    "                    cantidad_escenas -= 1\n",
    "\n",
    "                    for i in participantes:\n",
    "                        array_total_tomas_actor[i] -= 1\n",
    "                \n",
    "                actores_participan_tomas = 0\n",
    "                \n",
    "                if contador_tomas >= 6:\n",
    "                    dias_grabacion += 1\n",
    "                    contadores_por_actor = [0] * num_actores\n",
    "                    numero_escenas = 0\n",
    "                    contador_tomas = 0\n",
    "                    break  # Salir del bucle de escenas por actor para pasar al siguiente día\n"
   ]
  },
  {
   "cell_type": "markdown",
   "metadata": {},
   "source": [
    "Finalmente después de hacer el recorrido anterior e ir revisando actor y tomas o escenas de cada actor y agregarlas a un dia determinado, hemos hallado una configuración optima para el horario en el que podemos hacer ir a los actores al doblaje de la pelicula.\n",
    "El resultado optenido es el siguiente:"
   ]
  },
  {
   "cell_type": "code",
   "execution_count": 6,
   "metadata": {},
   "outputs": [
    {
     "name": "stdout",
     "output_type": "stream",
     "text": [
      "Día 1: 6 sesiones\n",
      "    Escena 10: Participantes [1, 2, 6, 9]\n",
      "    Escena 26: Participantes [1, 3, 5, 9]\n",
      "    Escena 16: Participantes [4, 10]\n",
      "    Escena 25: Participantes [1, 2, 4, 10]\n",
      "    Escena 3: Participantes [2, 5, 7]\n",
      "    Escena 4: Participantes [1, 2, 7, 8]\n",
      "Día 2: 6 sesiones\n",
      "    Escena 15: Participantes [1, 2, 7]\n",
      "    Escena 5: Participantes [2, 4, 8]\n",
      "    Escena 11: Participantes [1, 2, 3, 5, 8]\n",
      "    Escena 21: Participantes [6, 8]\n",
      "    Escena 8: Participantes [1, 2, 6]\n",
      "    Escena 12: Participantes [1, 2, 3, 4, 6]\n",
      "Día 3: 6 sesiones\n",
      "    Escena 14: Participantes [1, 3, 6]\n",
      "    Escena 18: Participantes [3, 6]\n",
      "    Escena 24: Participantes [3, 6]\n",
      "    Escena 29: Participantes [1, 5, 6]\n",
      "    Escena 1: Participantes [1, 2, 3, 4, 5]\n",
      "    Escena 2: Participantes [3, 4, 5]\n",
      "Día 4: 6 sesiones\n",
      "    Escena 6: Participantes [1, 2, 4, 5]\n",
      "    Escena 7: Participantes [1, 2, 4, 5]\n",
      "    Escena 13: Participantes [1, 4, 5]\n",
      "    Escena 20: Participantes [1, 3, 4, 5]\n",
      "    Escena 27: Participantes [4, 5]\n",
      "    Escena 17: Participantes [1, 3]\n",
      "Día 5: 6 sesiones\n",
      "    Escena 19: Participantes [1, 3]\n",
      "    Escena 22: Participantes [1, 2, 3, 4]\n",
      "    Escena 23: Participantes [1, 3]\n",
      "    Escena 9: Participantes [1, 2, 4]\n",
      "    Escena 28: Participantes [1, 4]\n",
      "    Escena 30: Participantes [1, 4]\n"
     ]
    }
   ],
   "source": [
    "# Imprimir el horario de doblaje por día\n",
    "for dia, sesiones in sesiones_por_dia.items():\n",
    "    if sesiones:\n",
    "        print(f\"Día {dia}: {len(sesiones)} sesiones\")\n",
    "        for sesion in sesiones:\n",
    "            participantes = [i + 1 for i, valor in enumerate(escenas_x_actor[sesion]) if valor == 1]\n",
    "            print(f\"    Escena {sesion + 1}: Participantes {participantes}\")\n",
    "    else:\n",
    "        print(f\"Día {dia}: 0 sesiones\")"
   ]
  },
  {
   "cell_type": "markdown",
   "metadata": {
    "id": "HZz52wOppp-U"
   },
   "source": [
    "# Análisis\n",
    "- ¿Que complejidad tiene el problema?. Orden de complejidad y Contabilizar el espacio de soluciones"
   ]
  },
  {
   "cell_type": "markdown",
   "metadata": {},
   "source": [
    "El problema anterior resulto por el código descrito tiene una complejidad que depende de varios factores, entre ellos el número de tomas o escenas, \n",
    "el número de actores y la distribución de la participación de los actores en las tomas.\n",
    "\n",
    "#### Orden depl coejidad\n",
    "- El bucle principal itera sobre todos los actores y luego sobre todas las escenas, lo que da como resultado una complejidad de tiempo de O(num_actores * num_escenas).\n",
    "- Dentro de este bucle, hay operaciones adicionales como verificar la disponibilidad de los actores para una escena específica, lo que agrega cierta complejidad adicional.\n",
    "- La asignación de escenas a actores se realiza de manera voraz, lo que puede llevar a una solución subóptima pero rápida. Por lo tanto, la complejidad real puede variar según la distribución de las escenas y la participación de los actores.dad\n",
    "\n",
    "#### Contabilizar el espacio de soluciones\n",
    "- El espacio de soluciones puede contabilizarse examinando todas las combinaciones posibles de asignación de actores a escenas.\n",
    "- Dado que para cada escena hay un número finito de actores posibles y el número de escenas es finito, el espacio de soluciones será la cantidad total de combinaciones mosibles de asignaciones de actores a escenas.\n",
    "- Esta cantidad puede ser enorme, especialmente en películas con muchas escenas y actores. Por lo tanto, el enfoque voraz utilizado en el código puede ser beneficioso para reducir el tiempo de búsqueda de una solución factible, aunque puede no ser óptimo en términos de encontrar la mejor solución posible."
   ]
  },
  {
   "cell_type": "markdown",
   "metadata": {
    "id": "ixEJUwH_pv7M"
   },
   "source": [
    "# Diseño\n",
    "- ¿Que técnica utilizo? ¿Por qué?"
   ]
  },
  {
   "cell_type": "markdown",
   "metadata": {
    "id": "ZdKPjB9gp2BA"
   },
   "source": [
    "El código proporcionado utiliza una técnica de programación voraz (greedy) para resolver el problema de asignar escenas de doblaje a actores. \n",
    "Se elige esta técnica por varias razones:\n",
    "\n",
    "- Eficiencia en tiempo de ejecución: Los algoritmos voraces suelen ser más rápidos que otros enfoques, ya que toman decisiones locales en cada paso sin tener en cuenta el futuro. Esto los hace adecuados para problemas donde se necesita una solución rápida.\n",
    "- Facilidad de implementación: La implementación de algoritmos voraces tiende a ser más simple y directa en comparación con otros enfoques como la programación dinámica o los algoritmos genéticos.\n",
    "- Adecuación al problema: En este caso específico, el problema de asignar escenas de doblaje a actores puede abordarse de manera voraz, ya que en cada paso se selecciona la próxima escena disponible y se asignan actores a ella hasta que se cumplan todas las restricciones. No hay una necesidad inmediata de considerar todas las posibles combinaciones de asignaciones de actores a escenas, lo que hace que un enfoque voraz sea adecuado."
   ]
  },
  {
   "cell_type": "markdown",
   "metadata": {},
   "source": [
    "## ALGORITMO DE BÚSQUEDA LOCAL:\n",
    "\n",
    "El algoritmo implementado es un algoritmo de búsqueda local. La búsqueda local es una metaheurística que parte de una solución inicial y busca mejorarla iterativamente explorando el espacio de soluciones vecinas. En este caso, la solución se representa como un diccionario donde las claves son los días de grabación y los valores son las sesiones asignadas a cada día.<br>\n",
    "\n",
    "El desarrollo del algoritmo aplicando tecnicas Metaheuristica (Búsqueda local):"
   ]
  },
  {
   "cell_type": "code",
   "execution_count": 8,
   "metadata": {},
   "outputs": [
    {
     "name": "stdout",
     "output_type": "stream",
     "text": [
      "Día 1: 6 sesiones\n",
      "    Escena 16: Participantes [4, 10]\n",
      "    Escena 8: Participantes [1, 2, 6]\n",
      "    Escena 9: Participantes [1, 2, 4]\n",
      "    Escena 11: Participantes [1, 2, 3, 5, 8]\n",
      "    Escena 7: Participantes [1, 2, 4, 5]\n",
      "    Escena 30: Participantes [1, 4]\n",
      "Día 2: 6 sesiones\n",
      "    Escena 2: Participantes [3, 4, 5]\n",
      "    Escena 14: Participantes [1, 3, 6]\n",
      "    Escena 29: Participantes [1, 5, 6]\n",
      "    Escena 12: Participantes [1, 2, 3, 4, 6]\n",
      "    Escena 20: Participantes [1, 3, 4, 5]\n",
      "    Escena 6: Participantes [1, 2, 4, 5]\n",
      "Día 3: 6 sesiones\n",
      "    Escena 23: Participantes [1, 3]\n",
      "    Escena 17: Participantes [1, 3]\n",
      "    Escena 3: Participantes [2, 5, 7]\n",
      "    Escena 10: Participantes [1, 2, 6, 9]\n",
      "    Escena 22: Participantes [1, 2, 3, 4]\n",
      "    Escena 27: Participantes [4, 5]\n",
      "Día 4: 6 sesiones\n",
      "    Escena 5: Participantes [2, 4, 8]\n",
      "    Escena 21: Participantes [6, 8]\n",
      "    Escena 25: Participantes [1, 2, 4, 10]\n",
      "    Escena 4: Participantes [1, 2, 7, 8]\n",
      "    Escena 28: Participantes [1, 4]\n",
      "    Escena 13: Participantes [1, 4, 5]\n",
      "Día 5: 6 sesiones\n",
      "    Escena 15: Participantes [1, 2, 7]\n",
      "    Escena 18: Participantes [3, 6]\n",
      "    Escena 24: Participantes [3, 6]\n",
      "    Escena 19: Participantes [1, 3]\n",
      "    Escena 26: Participantes [1, 3, 5, 9]\n",
      "Costo total: 94\n"
     ]
    }
   ],
   "source": [
    "# Metodo para calcular el costo total de una solución\n",
    "def calculate_cost(solucion, datos_doblaje):\n",
    "    costo_total = 0\n",
    "    for dia, sesiones in solucion.items():\n",
    "        for sesion in sesiones:\n",
    "            costo_total += datos_doblaje.iloc[sesion, -2]\n",
    "    return costo_total\n",
    "\n",
    "# metodo para generar una solución vecina intercambiando dos sesiones entre días\n",
    "def generate_neighbor_solution(solucion_actual):\n",
    "    vecino = solucion_actual.copy()\n",
    "    dias = list(vecino.keys())\n",
    "    np.random.shuffle(dias)  # Días aleatoriamente\n",
    "    dia_1, dia_2 = dias[:2]  # Días aleatorios\n",
    "\n",
    "    if vecino[dia_1] and vecino[dia_2]:\n",
    "        # Intercambiar dos sesiones aleatorias entre los dos días seleccionados\n",
    "        sesion_1 = np.random.choice(vecino[dia_1])\n",
    "        sesion_2 = np.random.choice(vecino[dia_2])\n",
    "        vecino[dia_1].remove(sesion_1)\n",
    "        vecino[dia_2].remove(sesion_2)\n",
    "        vecino[dia_1].append(sesion_2)\n",
    "        vecino[dia_2].append(sesion_1)\n",
    "\n",
    "    return vecino\n",
    "\n",
    "# Metodo para ejecutar el algoritmo de búsqueda local\n",
    "def local_search(datos_doblaje):\n",
    "    solucion_actual = {}\n",
    "    tomas_restantes = set(range(len(datos_doblaje) - 2))\n",
    "    tomas_restantes.remove(0)\n",
    "    costo_actual = 0\n",
    "    \n",
    "    # Inicializar la solución con sesiones aleatorias por día\n",
    "    for dia in range(1, len(datos_doblaje) - 2):\n",
    "        solucion_actual[dia] = []\n",
    "        while len(solucion_actual[dia]) < 6 and tomas_restantes:\n",
    "            sesion = np.random.choice(list(tomas_restantes))\n",
    "            solucion_actual[dia].append(sesion)\n",
    "            tomas_restantes.remove(sesion)\n",
    "            costo_actual += int(datos_doblaje.iloc[sesion, -1])\n",
    "\n",
    "    # Mejorar la solución iterativamente\n",
    "    while True:\n",
    "        vecino = generate_neighbor_solution(solucion_actual)\n",
    "        costo_vecino = calculate_cost(vecino, datos_doblaje)\n",
    "        if costo_vecino < costo_actual:\n",
    "            solucion_actual = vecino\n",
    "            costo_actual = costo_vecino\n",
    "        else:\n",
    "            break\n",
    "\n",
    "    return solucion_actual, costo_actual\n",
    "\n",
    "# Ejecutar algortimo llamando a busqueda local, retorna la solución, asi como también el costo optimo\n",
    "solucion_optima, costo_optimo = local_search(datos_doblaje)\n",
    "dias_con_tomas = {dia: sesiones for dia, sesiones in solucion_optima.items() if sesiones}\n",
    "\n",
    "for dia, sesiones in dias_con_tomas.items():\n",
    "    if sesiones:\n",
    "        print(f\"Día {dia}: {len(sesiones)} sesiones\")\n",
    "        for sesion in sesiones:\n",
    "            if sesion < len(escenas_x_actor):\n",
    "                participantes = [i + 1 for i, valor in enumerate(escenas_x_actor[sesion]) if valor == 1]\n",
    "                print(f\"    Escena {sesion + 1}: Participantes {participantes}\")\n",
    "    else:\n",
    "        print(f\"Día {dia}: 0 sesiones\")\n",
    "print(f\"Costo total: {costo_optimo}\")"
   ]
  },
  {
   "cell_type": "markdown",
   "metadata": {
    "id": "HZz52wOppp-U"
   },
   "source": [
    "# Análisis\n",
    "- ¿Que complejidad tiene el problema?. Orden de complejidad y Contabilizar el espacio de soluciones"
   ]
  },
  {
   "cell_type": "markdown",
   "metadata": {},
   "source": [
    "La complejidad y funciones del algoritmo anterior es:\n",
    "\n",
    "- **Calcular costo:** Esta función calcula el costo de una solución. realiza un recorrido de todas las grabaciones en cada dia y realiza una suma de los costos asociados a las tomas asignadas para el día.\n",
    "- **Solucion vecina:** Esta función genera una solución vecina intercambiando dos sesiones entre dos días de grabación aleatorios. Esto se hace para explorar nuevas soluciones en el espacio de búsqueda.\n",
    "- **Busqueda local:** Esta función implementa el algoritmo de búsqueda local. Comienza con una solución inicial aleatoria y luego mejora iterativamente la solución buscando soluciones vecinas que mejoren el costo total. El proceso continúa hasta que no se pueda encontrar una solución vecina mejor.meSe ejecuta la búsqueda local utilizando la función busqueda_local. La solución óptima y su costo óptimo se almacenan y se imprime la información sobre las sesiones asignadas a cada día de grabación, así como el costo total de la solución óptima."
   ]
  },
  {
   "cell_type": "markdown",
   "metadata": {
    "id": "ixEJUwH_pv7M"
   },
   "source": [
    "# Diseño\n",
    "- ¿Que técnica utilizo? ¿Por qué?"
   ]
  },
  {
   "cell_type": "markdown",
   "metadata": {},
   "source": [
    "Se utiliza la búsqueda local. La búsqueda local es una técnica heurística que parte de una solución inicial y realiza pequeños cambios en esta solución para mejorarla iterativamente. La razón principal para utilizar la búsqueda local en este contexto es su capacidad para explorar el espacio de soluciones de manera eficiente y encontrar soluciones de alta calidad en problemas combinatorios como el de asignación de sesiones de doblaje a días de grabación.\n",
    "\n",
    "Algunas de las razones para aplicar este algoritmo son:\n",
    "1. **Adaptabilidad:** La búsqueda local puede adaptarse fácilmente a diferentes tipos de problemas y restricciones, lo que la hace versátil y aplicable a una amplia gama de situaciones.\n",
    "2. **Eficiencia computacional:** La búsqueda local es computacionalmente eficiente en comparación con otros métodos de optimización, lo que la hace adecuada para problemas con un gran espacio de búsqueda como este.\n",
    "3. **Facilidad de implementacion:** La lógica de la búsqueda local es relativamente simple de implementar en comparación con otras técnicas más complejas, lo que permite una implementación rápida y efectiva.\n",
    "4. **Exploración espacio de soluciones:** La búsqueda local es capaz de explorar de manera efectiva el espacio de soluciones vecinas, lo que puede conducir a soluciones de alta calidad incluso en problemas con múltiples óptimos locales."
   ]
  }
 ],
 "metadata": {
  "colab": {
   "provenance": []
  },
  "kernelspec": {
   "display_name": "Python 3 (ipykernel)",
   "language": "python",
   "name": "python3"
  },
  "language_info": {
   "codemirror_mode": {
    "name": "ipython",
    "version": 3
   },
   "file_extension": ".py",
   "mimetype": "text/x-python",
   "name": "python",
   "nbconvert_exporter": "python",
   "pygments_lexer": "ipython3",
   "version": "3.10.6"
  }
 },
 "nbformat": 4,
 "nbformat_minor": 4
}
