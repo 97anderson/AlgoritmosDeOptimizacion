{
 "cells": [
  {
   "cell_type": "markdown",
   "metadata": {
    "id": "hVbXYX-RfPWh"
   },
   "source": [
    "# Algoritmos de optimización - Trabajo Práctico<br>\n",
    "Nombre y Apellidos: Anderson Jiménez Torres <br>\n",
    "Url: https://github.com/97anderson/AlgoritmosDeOptimizacion.git<br>\n",
    "Google Colab: https://drive.google.com/file/d/1b8i_ZNGB-RAkDd0UMimxHxzlYfddFPr3/view?usp=sharing  <br>\n",
    "Problema:\n",
    ">1. Sesiones de doblaje <br>\n",
    "\n",
    "Descripción del problema:\n",
    "\n",
    "Se precisa coordinar el doblaje de una película. Los actores del doblaje deben coincidir en las \r\n",
    "tomas en las que sus personajes aparecen juntos en las diferentes tomas. Los actores de \r\n",
    "doblaje cobran todos la misma cantidad por cada día que deben desplazarse hasta el estudio de \r\n",
    "grabación independientemente del número de tomas que se graben. No es posible grabar más \r\n",
    "de 6 tomas por día. El objetivo es planificar las sesiones por día de manera que el gasto por los \r\n",
    "servicios de los actores de doblaje sea el menor posible. Los datos son:\r\n",
    "Número de actores: 10\r\n",
    "Número de tomas : 30\r\n",
    "Actores/Tomas : https://bit.ly/36D8IuK\r\n",
    "- 1 indica que el actor participa en la toma\r\n",
    "- 0 en caso contrario\r\n",
    "\n",
    "\n",
    "\n",
    "\n",
    "\n",
    "\n",
    "\n",
    "\n",
    "                                        "
   ]
  },
  {
   "cell_type": "markdown",
   "metadata": {
    "id": "Sbo9IqQtpaHZ"
   },
   "source": [
    "# Modelo\n",
    "- ¿Como represento el espacio de soluciones?\n",
    "- ¿Cual es la función objetivo?\n",
    "- ¿Como implemento las restricciones?"
   ]
  },
  {
   "cell_type": "markdown",
   "metadata": {
    "id": "AiskKkzZfy4e"
   },
   "source": [
    "#### ¿Como represento el espacio de soluciones?\n",
    "El espacio de soluciones se representa mediante la asignación de actores a escenas y de escenas o tomas a dias. Esto se realiza mediante la matriz \n",
    "escenas_x_actor, donde cada fila representa una toma y cada columna representa un actor. Un valor de 1 en una posición indica que el actor \n",
    "participa en esa toma, mientras que un valor de 0 indica lo contrario.\n"
   ]
  },
  {
   "cell_type": "markdown",
   "metadata": {},
   "source": [
    "#### ¿Cual es la función objetivo?\n",
    "Maximizar la cantidad de tomas que se pueden realiza con tal de reducir costos, creando un horario o planeación que no haga que un actor vaya mas de\n",
    "lo necesario y de esa manera pagando lo menos posible.\n",
    "\n",
    "En el algoritmo desarrollado se realiza una busqueda por actores que menos participan en el doble y se crea una matriz de menos a mas, se acomoda los \n",
    "actores que menos participan a los que mas participan. Esto con el fin de no hacer venir mas días de los necesarios al mismo actor, con tal de reducir costos en el doblaje.<br>\n",
    "A continuación se comienza a desarrollar el código de lo que se explico anteriormente.\n"
   ]
  },
  {
   "cell_type": "code",
   "execution_count": 2,
   "metadata": {},
   "outputs": [],
   "source": [
    "import pandas as pd\n",
    "import numpy as np"
   ]
  },
  {
   "cell_type": "code",
   "execution_count": 3,
   "metadata": {},
   "outputs": [
    {
     "name": "stdout",
     "output_type": "stream",
     "text": [
      "   Unnamed: 0  Actor  Unnamed: 2  Unnamed: 3  Unnamed: 4  Unnamed: 5  \\\n",
      "0        Toma    1.0         2.0         3.0         4.0         5.0   \n",
      "1           1    1.0         1.0         1.0         1.0         1.0   \n",
      "2           2    0.0         0.0         1.0         1.0         1.0   \n",
      "3           3    0.0         1.0         0.0         0.0         1.0   \n",
      "4           4    1.0         1.0         0.0         0.0         0.0   \n",
      "5           5    0.0         1.0         0.0         1.0         0.0   \n",
      "6           6    1.0         1.0         0.0         1.0         1.0   \n",
      "7           7    1.0         1.0         0.0         1.0         1.0   \n",
      "8           8    1.0         1.0         0.0         0.0         0.0   \n",
      "9           9    1.0         1.0         0.0         1.0         0.0   \n",
      "10         10    1.0         1.0         0.0         0.0         0.0   \n",
      "11         11    1.0         1.0         1.0         0.0         1.0   \n",
      "12         12    1.0         1.0         1.0         1.0         0.0   \n",
      "13         13    1.0         0.0         0.0         1.0         1.0   \n",
      "14         14    1.0         0.0         1.0         0.0         0.0   \n",
      "15         15    1.0         1.0         0.0         0.0         0.0   \n",
      "16         16    0.0         0.0         0.0         1.0         0.0   \n",
      "17         17    1.0         0.0         1.0         0.0         0.0   \n",
      "18         18    0.0         0.0         1.0         0.0         0.0   \n",
      "19         19    1.0         0.0         1.0         0.0         0.0   \n",
      "20         20    1.0         0.0         1.0         1.0         1.0   \n",
      "21         21    0.0         0.0         0.0         0.0         0.0   \n",
      "22         22    1.0         1.0         1.0         1.0         0.0   \n",
      "23         23    1.0         0.0         1.0         0.0         0.0   \n",
      "24         24    0.0         0.0         1.0         0.0         0.0   \n",
      "25         25    1.0         1.0         0.0         1.0         0.0   \n",
      "26         26    1.0         0.0         1.0         0.0         1.0   \n",
      "27         27    0.0         0.0         0.0         1.0         1.0   \n",
      "28         28    1.0         0.0         0.0         1.0         0.0   \n",
      "29         29    1.0         0.0         0.0         0.0         1.0   \n",
      "30         30    1.0         0.0         0.0         1.0         0.0   \n",
      "31        NaN    NaN         NaN         NaN         NaN         NaN   \n",
      "32      TOTAL   22.0        14.0        13.0        15.0        11.0   \n",
      "\n",
      "    Unnamed: 6  Unnamed: 7  Unnamed: 8  Unnamed: 9  Unnamed: 10  Unnamed: 11  \\\n",
      "0          6.0         7.0         8.0         9.0         10.0          NaN   \n",
      "1          0.0         0.0         0.0         0.0          0.0          NaN   \n",
      "2          0.0         0.0         0.0         0.0          0.0          NaN   \n",
      "3          0.0         1.0         0.0         0.0          0.0          NaN   \n",
      "4          0.0         1.0         1.0         0.0          0.0          NaN   \n",
      "5          0.0         0.0         1.0         0.0          0.0          NaN   \n",
      "6          0.0         0.0         0.0         0.0          0.0          NaN   \n",
      "7          0.0         0.0         0.0         0.0          0.0          NaN   \n",
      "8          1.0         0.0         0.0         0.0          0.0          NaN   \n",
      "9          0.0         0.0         0.0         0.0          0.0          NaN   \n",
      "10         1.0         0.0         0.0         1.0          0.0          NaN   \n",
      "11         0.0         0.0         1.0         0.0          0.0          NaN   \n",
      "12         1.0         0.0         0.0         0.0          0.0          NaN   \n",
      "13         0.0         0.0         0.0         0.0          0.0          NaN   \n",
      "14         1.0         0.0         0.0         0.0          0.0          NaN   \n",
      "15         0.0         1.0         0.0         0.0          0.0          NaN   \n",
      "16         0.0         0.0         0.0         0.0          1.0          NaN   \n",
      "17         0.0         0.0         0.0         0.0          0.0          NaN   \n",
      "18         1.0         0.0         0.0         0.0          0.0          NaN   \n",
      "19         0.0         0.0         0.0         0.0          0.0          NaN   \n",
      "20         0.0         0.0         0.0         0.0          0.0          NaN   \n",
      "21         1.0         0.0         1.0         0.0          0.0          NaN   \n",
      "22         0.0         0.0         0.0         0.0          0.0          NaN   \n",
      "23         0.0         0.0         0.0         0.0          0.0          NaN   \n",
      "24         1.0         0.0         0.0         0.0          0.0          NaN   \n",
      "25         0.0         0.0         0.0         0.0          1.0          NaN   \n",
      "26         0.0         0.0         0.0         1.0          0.0          NaN   \n",
      "27         0.0         0.0         0.0         0.0          0.0          NaN   \n",
      "28         0.0         0.0         0.0         0.0          0.0          NaN   \n",
      "29         1.0         0.0         0.0         0.0          0.0          NaN   \n",
      "30         0.0         0.0         0.0         0.0          0.0          NaN   \n",
      "31         NaN         NaN         NaN         NaN          NaN          NaN   \n",
      "32         8.0         3.0         4.0         2.0          2.0          NaN   \n",
      "\n",
      "   Unnamed: 12  \n",
      "0        Total  \n",
      "1            5  \n",
      "2            3  \n",
      "3            3  \n",
      "4            4  \n",
      "5            3  \n",
      "6            4  \n",
      "7            4  \n",
      "8            3  \n",
      "9            3  \n",
      "10           4  \n",
      "11           5  \n",
      "12           5  \n",
      "13           3  \n",
      "14           3  \n",
      "15           3  \n",
      "16           2  \n",
      "17           2  \n",
      "18           2  \n",
      "19           2  \n",
      "20           4  \n",
      "21           2  \n",
      "22           4  \n",
      "23           2  \n",
      "24           2  \n",
      "25           4  \n",
      "26           4  \n",
      "27           2  \n",
      "28           2  \n",
      "29           3  \n",
      "30           2  \n",
      "31         NaN  \n",
      "32         NaN  \n"
     ]
    }
   ],
   "source": [
    "# Se crea dataset a partir de archivo csv suministrado\n",
    "datosDoblaje = pd.read_csv('Datos_problema_doblaje.csv', delimiter=',')\n",
    "print(datosDoblaje)"
   ]
  },
  {
   "cell_type": "code",
   "execution_count": 6,
   "metadata": {},
   "outputs": [],
   "source": [
    "# DECLARACION DE VARIABLES GLOBALES\n",
    "\n",
    "cantidad_escenas = datosDoblaje.iloc[1:-2, 0].copy().values.astype(int)  # numero total de escenas, sacadas del archivo csv\n",
    "num_actores = len(datosDoblaje.columns) - 3  # Cantidad total de actores de la pelicula, sacando columnas que no sirven\n",
    "contadores_por_actor = [0] * num_actores  # Se inicializa array con tamaño total de actores para sumar las escenas diarias, no > 6\n",
    "escenas_x_actor = datosDoblaje.iloc[1:-2, 1:-2].copy().values.astype(int)  # Matriz con escenas en que participa cada actor\n",
    "dias_grabacion = 1  # Se inicializa dia de grabacion en 1\n",
    "sesiones_por_dia = {}  # diccionario que tendra las escenas por dias de grabación\n",
    "total_actores_escena = datosDoblaje.iloc[1:-2, -1].copy().values.astype(int)  # Total de actores por escenas \n",
    "\n",
    "total_escenas_actores = datosDoblaje.iloc[[0, -1], 1:num_actores + 1] # Se consigue cantidad de escenas de cada actor\n",
    "actores_con_escenas = total_escenas_actores.values.astype(int)\n",
    "array_total_tomas_actor = actores_con_escenas[1]\n",
    "indice_orden = np.argsort(actores_con_escenas[1])  # Orden de menor a mayor de fila final\n",
    "actores_con_escenas = actores_con_escenas[:, indice_orden]  # Aplicamos el mismo orden a la primera fila\n",
    "\n",
    "contador_escenas = len(cantidad_escenas)\n",
    "horario_doblaje = {}\n",
    "tomas_programadas = []  # Lista para almacenar las tomas ya programadas\n",
    "actores_participan_tomas = 0 # variable que identifica los actores que participan en una toma que se va a realizar."
   ]
  },
  {
   "cell_type": "markdown",
   "metadata": {},
   "source": [
    "#### ¿Como implemento las restricciones?\n",
    "Las restircciones como el enunciado inicial lo dice son basicamente que un actor tenga un maximo de 6 tomas por día y reducir las ida de cada actor al minimo posible con tal de que el actor vaya solo lo necesario, si en el mismo dia que va se pueden hacer las tomas en las que va a participar mucho mejor.<br>\n",
    "\n",
    "Por ende se realiza un recorrido de los actores del que menos participa al que mas y se van revisando las escenas en las que participa, se descuenta la escena del maximo de tomas que hace el actor indicado por la ultima fila del archivo csv, teniendo en cuenta o llevando un contador de las 6 que puede hacer en el día, el código es el siguiente: "
   ]
  },
  {
   "cell_type": "code",
   "execution_count": 7,
   "metadata": {},
   "outputs": [],
   "source": [
    "# Se valida actor con escenas minimas a empezar a validar tomando variable actores_con_escenas fila 2\n",
    "for posicion in range(num_actores):\n",
    "    actor = actores_con_escenas[0, posicion]  # Se valida actor que menos participa a max\n",
    "    numero_escenas = 0\n",
    "    \n",
    "    while array_total_tomas_actor[actor - 1] > 0:\n",
    "        \n",
    "        for escena in range(len(cantidad_escenas)):\n",
    "            numero_escenas += 1\n",
    "\n",
    "            if escenas_x_actor[escena, actor - 1] == 1 and contador_escenas > 0 and escena not in tomas_programadas:\n",
    "                participantes = [i for i in range(num_actores) if escenas_x_actor[escena, i] == 1]\n",
    "                \n",
    "                for i in participantes:\n",
    "                    contadores_por_actor[i] += 1\n",
    "                    if contadores_por_actor[i] < 6:\n",
    "                        actores_participan_tomas += 1\n",
    "    \n",
    "                if all(contadores_por_actor[i] < 6 for i in participantes) and actores_participan_tomas == total_actores_escena[escena]:\n",
    "                    sesiones_por_dia.setdefault(dias_grabacion, []).append(escena)\n",
    "                    contador_escenas -= 1\n",
    "                    tomas_programadas.append(escena)\n",
    "                    \n",
    "                    for i in participantes:\n",
    "                        array_total_tomas_actor[i] -= 1\n",
    "                \n",
    "                actores_participan_tomas = 0\n",
    "                \n",
    "                if any(contadores_por_actor[i] >= 6 for i in participantes) and numero_escenas >= len(cantidad_escenas):\n",
    "                    dias_grabacion += 1\n",
    "                    contadores_por_actor = [0] * num_actores\n",
    "                    numero_escenas = 0\n",
    "            "
   ]
  },
  {
   "cell_type": "markdown",
   "metadata": {},
   "source": [
    "Finalmente después de hacer el recorrido anterior e ir revisando actor y tomas o escenas de cada actor y agregarlas a un dia determinado, hemos hallado una configuración optima para el horario en el que podemos hacer ir a los actores al doblaje de la pelicula, el resultado optenido es el siguiente:"
   ]
  },
  {
   "cell_type": "code",
   "execution_count": 8,
   "metadata": {},
   "outputs": [
    {
     "name": "stdout",
     "output_type": "stream",
     "text": [
      "Día 1: 8 sesiones\n",
      "    Escena 10: Participantes [1, 2, 6, 9]\n",
      "    Escena 26: Participantes [1, 3, 5, 9]\n",
      "    Escena 16: Participantes [4, 10]\n",
      "    Escena 25: Participantes [1, 2, 4, 10]\n",
      "    Escena 3: Participantes [2, 5, 7]\n",
      "    Escena 4: Participantes [1, 2, 7, 8]\n",
      "    Escena 15: Participantes [1, 2, 7]\n",
      "    Escena 21: Participantes [6, 8]\n",
      "Día 2: 7 sesiones\n",
      "    Escena 11: Participantes [1, 2, 3, 5, 8]\n",
      "    Escena 5: Participantes [2, 4, 8]\n",
      "    Escena 8: Participantes [1, 2, 6]\n",
      "    Escena 12: Participantes [1, 2, 3, 4, 6]\n",
      "    Escena 14: Participantes [1, 3, 6]\n",
      "    Escena 18: Participantes [3, 6]\n",
      "    Escena 24: Participantes [3, 6]\n",
      "Día 3: 5 sesiones\n",
      "    Escena 29: Participantes [1, 5, 6]\n",
      "    Escena 1: Participantes [1, 2, 3, 4, 5]\n",
      "    Escena 2: Participantes [3, 4, 5]\n",
      "    Escena 6: Participantes [1, 2, 4, 5]\n",
      "    Escena 7: Participantes [1, 2, 4, 5]\n",
      "Día 4: 6 sesiones\n",
      "    Escena 20: Participantes [1, 3, 4, 5]\n",
      "    Escena 27: Participantes [4, 5]\n",
      "    Escena 13: Participantes [1, 4, 5]\n",
      "    Escena 17: Participantes [1, 3]\n",
      "    Escena 19: Participantes [1, 3]\n",
      "    Escena 22: Participantes [1, 2, 3, 4]\n",
      "Día 5: 4 sesiones\n",
      "    Escena 23: Participantes [1, 3]\n",
      "    Escena 9: Participantes [1, 2, 4]\n",
      "    Escena 28: Participantes [1, 4]\n",
      "    Escena 30: Participantes [1, 4]\n"
     ]
    }
   ],
   "source": [
    "# Imprimir el horario de doblaje por día\n",
    "for dia, sesiones in sesiones_por_dia.items():\n",
    "    if sesiones:\n",
    "        print(f\"Día {dia}: {len(sesiones)} sesiones\")\n",
    "        for sesion in sesiones:\n",
    "            participantes = [i + 1 for i, valor in enumerate(escenas_x_actor[sesion]) if valor == 1]\n",
    "            print(f\"    Escena {sesion + 1}: Participantes {participantes}\")\n",
    "    else:\n",
    "        print(f\"Día {dia}: 0 sesiones\")"
   ]
  },
  {
   "cell_type": "markdown",
   "metadata": {
    "id": "HZz52wOppp-U"
   },
   "source": [
    "# Análisis\n",
    "- ¿Que complejidad tiene el problema?. Orden de complejidad y Contabilizar el espacio de soluciones"
   ]
  },
  {
   "cell_type": "markdown",
   "metadata": {},
   "source": [
    "El problema anterior resulto por el código descrito tiene una complejidad que depende de varios factores, entre ellos el número de tomas o escenas, \r\n",
    "el número de actores y la distribución de la participación de los actores en las tomas.\r\n",
    "\r\n",
    "#### Orden de coejidad\n",
    "- El bucle principal itera sobre todos los actores y luego sobre todas las escenas, lo que da como resultado una complejidad de tiempo de O(num_actores * num_escenas).\n",
    "- Dentro de este bucle, hay operaciones adicionales como verificar la disponibilidad de los actores para una escena específica, lo que agrega cierta complejidad adicional.\n",
    "- La asignación de escenas a actores se realiza de manera voraz, lo que puede llevar a una solución subóptima pero rápida. Por lo tanto, la complejidad real puede variar según la distribución de las escenas y la participación de los actores.dad\r\n",
    "\r\n",
    "#### Contabilizar el espacio de soluciones\r\n",
    "- El espacio de soluciones puede contabilizarse examinando todas las combinaciones posibles de asignación de actores a escenas.\r\n",
    "- Dado que para cada escena hay un número finito de actores posibles y el número de escenas es finito, el espacio de soluciones será la cantidad total de combinaciones mosibles de asignaciones de actores a escenas.\r\n",
    "- Esta cantidad puede ser enorme, especialmente en películas con muchas escenas y actores. Por lo tanto, el enfoque voraz utilizado en el código puede ser beneficioso para reducir el tiempo de búsqueda de una solución factible, aunque puede no ser óptimo en términos de encontrar la mejor solución posible."
   ]
  },
  {
   "cell_type": "markdown",
   "metadata": {
    "id": "ixEJUwH_pv7M"
   },
   "source": [
    "# Diseño\n",
    "- ¿Que técnica utilizo? ¿Por qué?"
   ]
  },
  {
   "cell_type": "markdown",
   "metadata": {
    "id": "ZdKPjB9gp2BA"
   },
   "source": [
    "El código proporcionado utiliza una técnica de programación voraz (greedy) para resolver el problema de asignar escenas de doblaje a actores. \n",
    "Se elige esta técnica por varias razones:\n",
    "\n",
    "- Eficiencia en tiempo de ejecución: Los algoritmos voraces suelen ser más rápidos que otros enfoques, ya que toman decisiones locales en cada paso sin tener en cuenta el futuro. Esto los hace adecuados para problemas donde se necesita una solución rápida.\n",
    "- Facilidad de implementación: La implementación de algoritmos voraces tiende a ser más simple y directa en comparación con otros enfoques como la programación dinámica o los algoritmos genéticos.\n",
    "- Adecuación al problema: En este caso específico, el problema de asignar escenas de doblaje a actores puede abordarse de manera voraz, ya que en cada paso se selecciona la próxima escena disponible y se asignan actores a ella hasta que se cumplan todas las restricciones. No hay una necesidad inmediata de considerar todas las posibles combinaciones de asignaciones de actores a escenas, lo que hace que un enfoque voraz sea adecuado."
   ]
  }
 ],
 "metadata": {
  "colab": {
   "provenance": []
  },
  "kernelspec": {
   "display_name": "Python 3 (ipykernel)",
   "language": "python",
   "name": "python3"
  },
  "language_info": {
   "codemirror_mode": {
    "name": "ipython",
    "version": 3
   },
   "file_extension": ".py",
   "mimetype": "text/x-python",
   "name": "python",
   "nbconvert_exporter": "python",
   "pygments_lexer": "ipython3",
   "version": "3.10.6"
  }
 },
 "nbformat": 4,
 "nbformat_minor": 4
}
